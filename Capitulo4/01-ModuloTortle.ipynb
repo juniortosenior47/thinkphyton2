{
 "cells": [
  {
   "cell_type": "markdown",
   "metadata": {},
   "source": [
    "# turtle"
   ]
  },
  {
   "cell_type": "code",
   "execution_count": null,
   "metadata": {
    "ExecuteTime": {
     "end_time": "2018-05-28T15:32:15.288986Z",
     "start_time": "2018-05-28T15:32:01.155764Z"
    }
   },
   "outputs": [],
   "source": [
    "import turtle\n",
    "\"\"\"\n",
    "bob = turtle.Turtle()\n",
    "bob.fd(100)\n",
    "bob.lt(90)\n",
    "bob.fd(100)\n",
    "#print(bob)\n",
    "turtle.mainloop()\n",
    "\n",
    "\"\"\"\n",
    "\"\"\"\n",
    "print(\"Repetición simple\")\n",
    "bob1 = turtle.Turtle()\n",
    "bob1.fd(100)\n",
    "bob1.lt(90)\n",
    "bob1.fd(100)\n",
    "bob1.lt(90)\n",
    "bob1.fd(100)\n",
    "bob1.lt(90)\n",
    "bob1.fd(100)\n",
    "turtle.mainloop()\n",
    "\n",
    "\"\"\"\n",
    "\n",
    "for i in range(4):\n",
    "    print('Hola!')\n",
    "\n",
    "bob = turtle.Turtle()\n",
    "for i in range(4):\n",
    "    bob.fd(100)\n",
    "    bob.lt(90)\n",
    "turtle.mainloop()"
   ]
  }
 ],
 "metadata": {
  "kernelspec": {
   "display_name": "Python 3",
   "language": "python",
   "name": "python3"
  },
  "language_info": {
   "codemirror_mode": {
    "name": "ipython",
    "version": 3
   },
   "file_extension": ".py",
   "mimetype": "text/x-python",
   "name": "python",
   "nbconvert_exporter": "python",
   "pygments_lexer": "ipython3",
   "version": "3.13.7"
  }
 },
 "nbformat": 4,
 "nbformat_minor": 2
}
