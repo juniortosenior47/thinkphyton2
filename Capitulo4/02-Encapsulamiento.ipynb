{
 "cells": [
  {
   "cell_type": "markdown",
   "metadata": {},
   "source": [
    "# Encapsulamineto"
   ]
  },
  {
   "cell_type": "code",
   "execution_count": null,
   "metadata": {
    "ExecuteTime": {
     "end_time": "2018-05-28T15:32:15.288986Z",
     "start_time": "2018-05-28T15:32:01.155764Z"
    }
   },
   "outputs": [
    {
     "ename": "",
     "evalue": "",
     "output_type": "error",
     "traceback": [
      "\u001b[1;31mThe Kernel crashed while executing code in the current cell or a previous cell. \n",
      "\u001b[1;31mPlease review the code in the cell(s) to identify a possible cause of the failure. \n",
      "\u001b[1;31mClick <a href='https://aka.ms/vscodeJupyterKernelCrash'>here</a> for more info. \n",
      "\u001b[1;31mView Jupyter <a href='command:jupyter.viewOutput'>log</a> for further details."
     ]
    }
   ],
   "source": [
    "import turtle\n",
    "\"\"\"\n",
    "def cuadrado(t):\n",
    "    for i in range(4):\n",
    "        t.fd(100)\n",
    "        t.lt(90)\n",
    "\n",
    "alice = turtle.Turtle()\n",
    "cuadrado(alice)\n",
    "\"\"\"\n",
    "\"\"\"\n",
    "print(\"Generalización\")\n",
    "def cuadrado(t, longitud):\n",
    "    for i in range(4):\n",
    "        t.fd(longitud)\n",
    "        t.lt(90)\n",
    "\n",
    "bob = turtle.Turtle()\n",
    "cuadrado(bob, 100)\n",
    "\"\"\"\n",
    "\n",
    "\"\"\"\n",
    "print(\"El siguiente paso es también una generalización. En lugar de dibujar cuadrados, poligono dibuja polígonos regulares con cualquier número de lados. Aquí hay una solución:\")\n",
    "def poligono(t, n, longitud):\n",
    "    angulo = 360 / n\n",
    "    for i in range(n):\n",
    "        t.fd(longitud)\n",
    "        t.lt(angulo)\n",
    "bob = turtle.Turtle()\n",
    "poligono(bob, 7, 70)\n",
    "\"\"\"\n",
    "\n",
    "\n",
    "import math\n",
    "\n",
    "\n",
    "\"\"\"\n",
    "def poligono(t, n, longitud):\n",
    "    angulo = 360 / n\n",
    "    for i in range(n):\n",
    "        t.fd(longitud)\n",
    "        t.lt(angulo)\n",
    "\n",
    "def circulo(t, r):\n",
    "    perimetro = 2 * math.pi * r\n",
    "    n = 50\n",
    "    longitud = perimetro / n\n",
    "    poligono(t, n, longitud)\n",
    "\n",
    "bob = turtle.Turtle()\n",
    "circulo(bob, 50)\n",
    "\"\"\"\n",
    "\n",
    "\"\"\"\n",
    "def poligono(t, n, longitud):\n",
    "    angulo = 360 / n\n",
    "    for i in range(n):\n",
    "        t.fd(longitud)\n",
    "        t.lt(angulo)\n",
    "\n",
    "def circulo(t, r):\n",
    "    perimetro = 2 * math.pi * r\n",
    "    n = int(perimetro / 3) + 3\n",
    "    longitud = perimetro / n\n",
    "    poligono(t, n, longitud)\n",
    "\n",
    "bob = turtle.Turtle()\n",
    "circulo(bob, 50)\n",
    "\"\"\"\n",
    "\n",
    "\n",
    "def polilinea(t, n, longitud, angulo):\n",
    "    for i in range(n):\n",
    "        t.fd(longitud)\n",
    "        t.lt(angulo)\n",
    "\n",
    "def poligono(t, n, longitud):\n",
    "    angulo = 360.0 / n\n",
    "    polilinea(t, n, longitud, angulo)\n",
    "\n",
    "def arco(t, r, angulo):\n",
    "    longitud_arco = 2 * math.pi * r * angulo / 360\n",
    "    n = int(longitud_arco / 3) + 1\n",
    "    longitud_paso = longitud_arco / n\n",
    "    angulo_paso = float(angulo) / n\n",
    "    polilinea(t, n, longitud_paso, angulo_paso)\n",
    "\n",
    "def circulo(t, r):\n",
    "    arco(t, r, 360)\n",
    "\n",
    "bob = turtle.Turtle()\n",
    "circulo(bob, 50)\n",
    "\n",
    "print(\"\"\"Este proceso —reorganizar un programa para mejorar las interfaces y facilitar la reutilización\n",
    "de código— se llama refactorización. En este caso, notamos que había código similar\n",
    "en arco y poligono, así que “lo factorizamos” en polilinea.\"\"\")\n"
   ]
  }
 ],
 "metadata": {
  "kernelspec": {
   "display_name": "Python 3",
   "language": "python",
   "name": "python3"
  },
  "language_info": {
   "codemirror_mode": {
    "name": "ipython",
    "version": 3
   },
   "file_extension": ".py",
   "mimetype": "text/x-python",
   "name": "python",
   "nbconvert_exporter": "python",
   "pygments_lexer": "ipython3",
   "version": "3.13.7"
  }
 },
 "nbformat": 4,
 "nbformat_minor": 2
}
