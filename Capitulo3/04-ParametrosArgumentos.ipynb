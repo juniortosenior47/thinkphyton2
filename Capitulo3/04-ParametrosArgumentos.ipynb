{
 "cells": [
  {
   "cell_type": "markdown",
   "metadata": {},
   "source": [
    "# Parametros y Argumentos"
   ]
  },
  {
   "cell_type": "code",
   "execution_count": null,
   "metadata": {
    "ExecuteTime": {
     "end_time": "2018-05-28T15:32:15.288986Z",
     "start_time": "2018-05-28T15:32:01.155764Z"
    }
   },
   "outputs": [
    {
     "name": "stdout",
     "output_type": "stream",
     "text": [
      "Hasta aquí, hemos visto los elementos de un programa —variables, expresiones y\n",
      "sentencias— de forma aislada, sin hablar sobre cómo combinarlos.\n",
      "Spam\n",
      "Spam\n",
      "42\n",
      "42\n",
      "3.141592653589793\n",
      "3.141592653589793\n",
      "Spam Spam Spam Spam \n",
      "Spam Spam Spam Spam \n",
      "-1.0\n",
      "-1.0\n",
      "Eric, the half a bee.\n",
      "Eric, the half a bee.\n",
      "Las variables y los parámetros son locales\n",
      "Las funciones nulas podrían mostrar algo en la pantalla o tener algún otro efecto, pero no\n",
      "tienen un valor de retorno. Si asignas el resultado a una variable, obtienes un valor especial\n",
      "llamado None.\n",
      "Bing\n",
      "Bing\n",
      "None\n",
      " type(None) -> <class 'NoneType'>\n",
      "¿Por qué funciones?\n",
      " Crear una nueva función te da la oportunidad de ponerle nombre a un grupo de\n",
      "sentencias, lo cual hace que tu programa sea más fácil de leer y depurar.\n",
      " Las funciones pueden hacer que un programa sea más pequeño al eliminar código\n",
      "repetitivo. Después, si quieres hacer un cambio, solo tienes que hacerlo en un lugar.\n",
      "Dividir un programa largo en funciones te permite depurar las partes una a la vez y\n",
      "luego reunirlas en un todo funcional.\n",
      " Las funciones bien diseñadas son a menudo útiles para muchos programas. Una vez\n",
      "que escribes y depuras una, la puedes reutilizar.\n"
     ]
    }
   ],
   "source": [
    "\n",
    "\n",
    "print(\"\"\"Hasta aquí, hemos visto los elementos de un programa —variables, expresiones y\n",
    "sentencias— de forma aislada, sin hablar sobre cómo combinarlos.\"\"\")\n",
    "\n",
    "import math\n",
    "\n",
    "def impr_2veces(bruce):\n",
    "    print(bruce)\n",
    "    print(bruce)\n",
    "\n",
    "impr_2veces('Spam')\n",
    "\n",
    "impr_2veces(42)\n",
    "\n",
    "impr_2veces(math.pi)\n",
    "\n",
    "impr_2veces('Spam '*4)\n",
    "\n",
    "impr_2veces(math.cos(math.pi))\n",
    "\n",
    "michael = 'Eric, the half a bee.'\n",
    "impr_2veces(michael)\n",
    "\n",
    "print(\"Las variables y los parámetros son locales\")\n",
    "parte1 = 'Spam '\n",
    "parte2 = 'and eggs'\n",
    "\n",
    "def cat_2veces(parte1, parte2):\n",
    "    cat = parte1 + parte2\n",
    "    impr_2veces(cat)\n",
    "\n",
    "#print(cat)  # NameError: cat is not defined\n",
    "\n",
    "print(\"\"\"Las funciones nulas podrían mostrar algo en la pantalla o tener algún otro efecto, pero no\n",
    "tienen un valor de retorno. Si asignas el resultado a una variable, obtienes un valor especial\n",
    "llamado None.\"\"\")\n",
    "\n",
    "resultado = impr_2veces('Bing')\n",
    "print(resultado)\n",
    "\n",
    "print(\" type(None) ->\", type(None))\n",
    "\n",
    "print(\"¿Por qué funciones?\")\n",
    "\n",
    "print(\"\"\" Crear una nueva función te da la oportunidad de ponerle nombre a un grupo de\n",
    "sentencias, lo cual hace que tu programa sea más fácil de leer y depurar.\"\"\")\n",
    "\n",
    "print(\"\"\" Las funciones pueden hacer que un programa sea más pequeño al eliminar código\n",
    "repetitivo. Después, si quieres hacer un cambio, solo tienes que hacerlo en un lugar.\"\"\")\n",
    "\n",
    "print(\"\"\"Dividir un programa largo en funciones te permite depurar las partes una a la vez y\n",
    "luego reunirlas en un todo funcional.\"\"\")\n",
    "\n",
    "print(\"\"\" Las funciones bien diseñadas son a menudo útiles para muchos programas. Una vez\n",
    "que escribes y depuras una, la puedes reutilizar.\"\"\")"
   ]
  }
 ],
 "metadata": {
  "kernelspec": {
   "display_name": "Python 3",
   "language": "python",
   "name": "python3"
  },
  "language_info": {
   "codemirror_mode": {
    "name": "ipython",
    "version": 3
   },
   "file_extension": ".py",
   "mimetype": "text/x-python",
   "name": "python",
   "nbconvert_exporter": "python",
   "pygments_lexer": "ipython3",
   "version": "3.13.7"
  }
 },
 "nbformat": 4,
 "nbformat_minor": 2
}
