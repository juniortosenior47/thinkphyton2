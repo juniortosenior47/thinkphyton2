{
 "cells": [
  {
   "cell_type": "markdown",
   "metadata": {},
   "source": [
    "# Funciones Matemáticas"
   ]
  },
  {
   "cell_type": "code",
   "execution_count": 6,
   "metadata": {
    "ExecuteTime": {
     "end_time": "2018-05-28T15:32:15.288986Z",
     "start_time": "2018-05-28T15:32:01.155764Z"
    }
   },
   "outputs": [
    {
     "name": "stdout",
     "output_type": "stream",
     "text": [
      "Antes de que podamos utilizar las funciones de un módulo, tenemos que importarlo con una sentencia import:\n",
      "20.0\n",
      "El primer ejemplo utiliza math.log10 para calcular una relación señal/ruido en decibeles\n",
      "(suponiendo que potencia_senal y potencia_ruido están definidas). El módulo math\n",
      "también proporciona a log, que calcula logaritmos en base e.\n",
      "0.644217687237691\n",
      "El segundo ejemplo encuentra el seno de radianes. El nombre de la variable radianes es\n",
      "un indicio de que sin y las otras funciones trigonométricas (cos, tan, etc.) toman argumentos\n",
      "en radianes. Para convertir de grados a radianes, divide por 180 y multiplica por\n",
      "p:\n",
      "0.7853981633974483\n",
      "La expresión math.pi obtiene la variable pi del módulo math. Su valor es una aproximación\n",
      "en coma flotante de p, con precisión de alrededor de 15 digitos.\n",
      "0.7071067811865476\n",
      "Si sabes trigonometría, puedes verificar los resultados anteriores comparándolos con la raíz\n",
      "cuadrada de dos, dividida por dos\n"
     ]
    }
   ],
   "source": [
    "\n",
    "\n",
    "print(\"Antes de que podamos utilizar las funciones de un módulo, tenemos que importarlo con una sentencia import:\")\n",
    "import math\n",
    "\n",
    "potencia_senal = 10\n",
    "potencia_ruido = 0.1\n",
    "relacion = potencia_senal / potencia_ruido\n",
    "decibeles = 10 * math.log10(relacion)\n",
    "print(decibeles)\n",
    "print(\"\"\"El primer ejemplo utiliza math.log10 para calcular una relación señal/ruido en decibeles\n",
    "(suponiendo que potencia_senal y potencia_ruido están definidas). El módulo math\n",
    "también proporciona a log, que calcula logaritmos en base e.\"\"\")\n",
    "\n",
    "radianes = 0.7\n",
    "altura = math.sin(radianes)\n",
    "print(altura) \n",
    "\n",
    "print(\"\"\"El segundo ejemplo encuentra el seno de radianes. El nombre de la variable radianes es\n",
    "un indicio de que sin y las otras funciones trigonométricas (cos, tan, etc.) toman argumentos\n",
    "en radianes. Para convertir de grados a radianes, divide por 180 y multiplica por\n",
    "p:\"\"\")\n",
    "\n",
    "grados = 45\n",
    "radianes = grados / 180.0 * math.pi\n",
    "math.sin(radianes)\n",
    "print(radianes)\n",
    "print(\"\"\"La expresión math.pi obtiene la variable pi del módulo math. Su valor es una aproximación\n",
    "en coma flotante de p, con precisión de alrededor de 15 digitos.\"\"\")\n",
    "\n",
    "math.sqrt(2) / 2.0  # raiz cuadrada de 2 dividido entre 2\n",
    "print(math.sqrt(2) / 2.0)\n",
    "print(\"\"\"Si sabes trigonometría, puedes verificar los resultados anteriores comparándolos con la raíz\n",
    "cuadrada de dos, dividida por dos\"\"\")\n",
    "\n",
    "\n"
   ]
  }
 ],
 "metadata": {
  "kernelspec": {
   "display_name": "Python 3",
   "language": "python",
   "name": "python3"
  },
  "language_info": {
   "codemirror_mode": {
    "name": "ipython",
    "version": 3
   },
   "file_extension": ".py",
   "mimetype": "text/x-python",
   "name": "python",
   "nbconvert_exporter": "python",
   "pygments_lexer": "ipython3",
   "version": "3.13.7"
  }
 },
 "nbformat": 4,
 "nbformat_minor": 2
}
