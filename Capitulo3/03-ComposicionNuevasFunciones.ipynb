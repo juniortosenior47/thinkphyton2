{
 "cells": [
  {
   "cell_type": "markdown",
   "metadata": {},
   "source": [
    "# Composición y Nuevas Funciones"
   ]
  },
  {
   "cell_type": "code",
   "execution_count": 17,
   "metadata": {
    "ExecuteTime": {
     "end_time": "2018-05-28T15:32:15.288986Z",
     "start_time": "2018-05-28T15:32:01.155764Z"
    }
   },
   "outputs": [
    {
     "name": "stdout",
     "output_type": "stream",
     "text": [
      "Hasta aquí, hemos visto los elementos de un programa —variables, expresiones y\n",
      "sentencias— de forma aislada, sin hablar sobre cómo combinarlos.\n",
      " x = math.sin(grados / 360.0 * 2 * math.pi) ->  0.7071067811865476\n",
      "También llamadas a funciones:\n",
      " x = math.exp(math.log(x+1)) ->  1.7071067811865475\n",
      " horas * 60 = minutos -> Error de Sintaxis \n",
      "funciones nuevas\n",
      " x = grados_a_radianes(45) ->  0.7853981633974483\n",
      "def es una palabra clave que indica que esta es una definición de función.\n",
      "La primera línea de la definición de función se llama encabezado (en inglés, header); el\n",
      "resto se llama cuerpo (en inglés, body). El encabezado debe terminar con el signo de dos\n",
      "puntos y el cuerpo debe tener sangría. Por convención, la sangría siempre se hace con\n",
      "cuatro espacios. El cuerpo puede contener cualquier número de sentencias.\n",
      "type(grados_a_radianes) - >  <class 'function'>\n",
      "Las variables y los parámetros son locales.\n"
     ]
    }
   ],
   "source": [
    "\n",
    "\n",
    "print(\"\"\"Hasta aquí, hemos visto los elementos de un programa —variables, expresiones y\n",
    "sentencias— de forma aislada, sin hablar sobre cómo combinarlos.\"\"\")\n",
    "\n",
    "import math\n",
    "\n",
    "grados = 45\n",
    "x = math.sin(grados / 360.0 * 2 * math.pi)\n",
    "\n",
    "print(\" x = math.sin(grados / 360.0 * 2 * math.pi) -> \", x) \n",
    "\n",
    "print(\"También llamadas a funciones:\")\n",
    "x = math.exp(math.log(x+1))\n",
    "print(\" x = math.exp(math.log(x+1)) -> \", x)\n",
    "\n",
    "horas = 10\n",
    "#minutos = (horas * 60) # correcto\n",
    "\n",
    "#horas * 60 = minutos # incorrecto!\n",
    "print(\" horas * 60 = minutos -> Error de Sintaxis \")\n",
    "\n",
    "\n",
    "\n",
    "print(\"funciones nuevas\")\n",
    "\n",
    "def grados_a_radianes(grados):\n",
    "    return grados / 360.0 * 2 * math.pi\n",
    "\n",
    "x = grados_a_radianes(45)\n",
    "print(\" x = grados_a_radianes(45) -> \", x)\n",
    "print(\"def es una palabra clave que indica que esta es una definición de función.\")\n",
    "\n",
    "print(\"\"\"La primera línea de la definición de función se llama encabezado (en inglés, header); el\n",
    "resto se llama cuerpo (en inglés, body). El encabezado debe terminar con el signo de dos\n",
    "puntos y el cuerpo debe tener sangría. Por convención, la sangría siempre se hace con\n",
    "cuatro espacios. El cuerpo puede contener cualquier número de sentencias.\"\"\")\n",
    "\n",
    "print(\"type(grados_a_radianes) - > \", type(grados_a_radianes))\n",
    "print(\"Las variables y los parámetros son locales.\")\n"
   ]
  }
 ],
 "metadata": {
  "kernelspec": {
   "display_name": "Python 3",
   "language": "python",
   "name": "python3"
  },
  "language_info": {
   "codemirror_mode": {
    "name": "ipython",
    "version": 3
   },
   "file_extension": ".py",
   "mimetype": "text/x-python",
   "name": "python",
   "nbconvert_exporter": "python",
   "pygments_lexer": "ipython3",
   "version": "3.13.7"
  }
 },
 "nbformat": 4,
 "nbformat_minor": 2
}
