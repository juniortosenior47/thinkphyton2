{
 "cells": [
  {
   "cell_type": "markdown",
   "metadata": {},
   "source": [
    "# Funciones"
   ]
  },
  {
   "cell_type": "code",
   "execution_count": 9,
   "metadata": {
    "ExecuteTime": {
     "end_time": "2018-05-28T15:32:15.288986Z",
     "start_time": "2018-05-28T15:32:01.155764Z"
    }
   },
   "outputs": [
    {
     "name": "stdout",
     "output_type": "stream",
     "text": [
      "Ya hemos visto un ejemplo de una llamada a función:\n",
      " type(42)        ->  <class 'int'>\n",
      " type('Hola')    ->  <class 'str'>\n",
      " El nombre de la función es type. La expresión en paréntesis se llama argumento de la función. El resultado, para esta función, es el tipo del argumento.\n",
      " int('32')       ->  32\n",
      " float('3.1416') ->  3.1416\n",
      " str(32)         ->  32\n",
      " str(3.1416)     ->  3.1416\n",
      " int('Hola')     -> El error se debe a que la cadena 'Hola' no puede convertirse en un número entero.\n",
      " int(3.99999) ->  3\n",
      " El valor decimal se trunca, no se redondea.\n",
      " int(-2.3) ->  -2\n",
      " El valor decimal se trunca, no se redondea.\n",
      "float(32) ->  32.0\n",
      " El número entero se convierte en un número de punto flotante.\n",
      "float('3.14159') ->  3.14159\n",
      " La cadena se convierte en un número de punto flotante.\n",
      "str(32) ->  32\n",
      " El número entero se convierte en una cadena.\n",
      "str(3.14159) ->  3.14159\n",
      " El número de punto flotante se convierte en una cadena.\n"
     ]
    }
   ],
   "source": [
    "\n",
    "\n",
    "print(\"Ya hemos visto un ejemplo de una llamada a función:\")\n",
    "\n",
    "print(\" type(42)        -> \", type(42))\n",
    "print(\" type('Hola')    -> \", type(\"Hola\"))\n",
    "print(\" El nombre de la función es type. La expresión en paréntesis se llama argumento de la función. El resultado, para esta función, es el tipo del argumento.\")\n",
    "\n",
    "print(\" int('32')       -> \", int(\"32\"))\n",
    "print(\" float('3.1416') -> \", float(\"3.1416\"))\n",
    "print(\" str(32)         -> \", str(32))\n",
    "print(\" str(3.1416)     -> \", str(3.1416))\n",
    "\n",
    "#print(\"int('Hola')\", int('Hola'))  # Esto genera un error\n",
    "print(\" int('Hola')     -> El error se debe a que la cadena 'Hola' no puede convertirse en un número entero.\")\n",
    "\n",
    "print(\" int(3.99999) -> \", int(3.99999))  # Esto trunca el valor decimal\n",
    "print(\" El valor decimal se trunca, no se redondea.\")\n",
    "\n",
    "print(\" int(-2.3) -> \", int(-2.3))  # Esto trunca el valor decimal\n",
    "print(\" El valor decimal se trunca, no se redondea.\")\n",
    "\n",
    "print(\"float(32) -> \", float(32))  # Convierte un entero en un número de punto flotante\n",
    "print(\" El número entero se convierte en un número de punto flotante.\")\n",
    "\n",
    "print(\"float('3.14159') -> \", float(\"3.14159\"))  # Convierte una cadena en un número de punto flotante\n",
    "print(\" La cadena se convierte en un número de punto flotante.\")\n",
    "\n",
    "print(\"str(32) -> \", str(32))  # Convierte un entero en una cadena\n",
    "print(\" El número entero se convierte en una cadena.\") \n",
    "\n",
    "print(\"str(3.14159) -> \", str(3.14159))  # Convierte un número de punto flotante en una cadena\n",
    "print(\" El número de punto flotante se convierte en una cadena.\")\n"
   ]
  }
 ],
 "metadata": {
  "kernelspec": {
   "display_name": "Python 3",
   "language": "python",
   "name": "python3"
  },
  "language_info": {
   "codemirror_mode": {
    "name": "ipython",
    "version": 3
   },
   "file_extension": ".py",
   "mimetype": "text/x-python",
   "name": "python",
   "nbconvert_exporter": "python",
   "pygments_lexer": "ipython3",
   "version": "3.13.7"
  }
 },
 "nbformat": 4,
 "nbformat_minor": 2
}
