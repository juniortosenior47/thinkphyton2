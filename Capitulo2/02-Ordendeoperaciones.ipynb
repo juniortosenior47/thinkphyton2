{
 "cells": [
  {
   "cell_type": "markdown",
   "metadata": {},
   "source": [
    "# Orden de operaciones y operacioens de cadena"
   ]
  },
  {
   "cell_type": "code",
   "execution_count": 16,
   "metadata": {
    "ExecuteTime": {
     "end_time": "2018-05-28T15:32:15.288986Z",
     "start_time": "2018-05-28T15:32:01.155764Z"
    }
   },
   "outputs": [
    {
     "name": "stdout",
     "output_type": "stream",
     "text": [
      "Orden de operaciones\n",
      " 2 * (3-1)            ->  4\n",
      " (1+1)**(5-2)         ->  8\n",
      " (minuto * 100) / 60  ->  1.6666666666666667\n",
      " 1 + 2**3             ->  9\n",
      " 2 * 3**2             ->  18\n",
      " 2*3-1                ->  5\n",
      " 6 + 4/2              ->  8.0\n",
      " grados / 2 * pi      ->  282.7433388230814\n",
      "Operaciones con cadenas\n",
      " En general, no puedes realizar operaciones matemáticas con cadenas, incluso si las cadenas parecen números, así que las siguientes expresiones son ilegales:\n",
      " 'comida'-'china' 'huevos'/'fácil' 'la tercera'*'la vencida'\n",
      "Sin embargo, hay dos excepciones: + y *\n",
      " primero            ->  curruca\n",
      " segundo            ->  garganta\n",
      " primero + segundo  -> currucagarganta\n",
      " El operador * también funciona en cadenas: hace repetición\n",
      " 'Spam'*3           ->  SpamSpamSpam\n",
      "notas se llaman comentarios, y comienzan con el símbolo #:\n",
      "# calcular el porcentaje de la hora que ha transcurrido\n",
      "Puedes también poner comentarios al final de una línea:\n",
      "porcentaje = (minuto * 100) / 60 # porcentaje de una hora\n",
      "Este comentario es redundante con el código e inútil:\n",
      "v = 5 # asigna 5 a v\n",
      "Este comentario contiene información útil que no está en el código:\n",
      "v = 5 # velocidad en metros/segundos.\n"
     ]
    }
   ],
   "source": [
    "\n",
    "\n",
    "print(\"Orden de operaciones\")\n",
    "\n",
    "\n",
    "print(\" 2 * (3-1)            -> \" , 2 * (3-1))\n",
    "print(\" (1+1)**(5-2)         -> \", (1+1)**(5-2))\n",
    "print(\" (minuto * 100) / 60  -> \", (1 * 100) / 60)\n",
    "print(\" 1 + 2**3             -> \", 1 + 2**3)\n",
    "print(\" 2 * 3**2             -> \", 2 * 3**2 )\n",
    "print(\" 2*3-1                -> \", 2*3-1)\n",
    "print(\" 6 + 4/2              -> \", 6+4/2)\n",
    "\n",
    "grados = 180\n",
    "pi = 3.1415926535897932\n",
    "print(\" grados / 2 * pi      -> \", grados / 2 * pi)\n",
    "\n",
    "print(\"Operaciones con cadenas\")\n",
    "print(\" En general, no puedes realizar operaciones matemáticas con cadenas, incluso si las cadenas parecen números, así que las siguientes expresiones son ilegales:\")\n",
    "print(\" 'comida'-'china' 'huevos'/'fácil' 'la tercera'*'la vencida'\"),\n",
    "\n",
    "print(\"Sin embargo, hay dos excepciones: + y *\")\n",
    "primero = 'curruca'\n",
    "segundo = 'garganta'\n",
    "print(\" primero            -> \", primero)\n",
    "print(\" segundo            -> \", segundo)\n",
    "print(\" primero + segundo  ->\", primero + segundo)\n",
    "\n",
    "print(\" El operador * también funciona en cadenas: hace repetición\")\n",
    "print(\" 'Spam'*3           -> \", 'Spam'*3)\n",
    "\n",
    "print(\"notas se llaman comentarios, y comienzan con el símbolo #:\")\n",
    "print(\"# calcular el porcentaje de la hora que ha transcurrido\")\n",
    "# calcular el porcentaje de la hora que ha transcurrido\n",
    "minuto=2\n",
    "porcentaje = (minuto * 100) / 60\n",
    "\n",
    "print(\"Puedes también poner comentarios al final de una línea:\")\n",
    "print(\"porcentaje = (minuto * 100) / 60 # porcentaje de una hora\")\n",
    "porcentaje = (minuto * 100) / 60 # porcentaje de una hora\n",
    "\n",
    "print(\"Este comentario es redundante con el código e inútil:\")\n",
    "print(\"v = 5 # asigna 5 a v\")\n",
    "v = 5 # asigna 5 a v\n",
    "\n",
    "print(\"Este comentario contiene información útil que no está en el código:\")\n",
    "print(\"v = 5 # velocidad en metros/segundos.\")\n",
    "v = 5 # velocidad en metros/segundos."
   ]
  }
 ],
 "metadata": {
  "kernelspec": {
   "display_name": "Python 3",
   "language": "python",
   "name": "python3"
  },
  "language_info": {
   "codemirror_mode": {
    "name": "ipython",
    "version": 3
   },
   "file_extension": ".py",
   "mimetype": "text/x-python",
   "name": "python",
   "nbconvert_exporter": "python",
   "pygments_lexer": "ipython3",
   "version": "3.13.7"
  }
 },
 "nbformat": 4,
 "nbformat_minor": 2
}
