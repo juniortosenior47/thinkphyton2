{
 "cells": [
  {
   "cell_type": "markdown",
   "metadata": {},
   "source": [
    "# sentencias de asignación"
   ]
  },
  {
   "cell_type": "code",
   "execution_count": 9,
   "metadata": {
    "ExecuteTime": {
     "end_time": "2018-05-28T15:32:15.288986Z",
     "start_time": "2018-05-28T15:32:01.155764Z"
    }
   },
   "outputs": [
    {
     "name": "stdout",
     "output_type": "stream",
     "text": [
      "Sentencias de asignación\n",
      "mensaje ->  Y ahora algo completamente diferente\n",
      "n       ->  17\n",
      "pi      ->  3.141592653589793\n",
      "palabras clave en Python\n",
      " False   class     finally    is        return\n",
      " None    continue  for        lambda    try\n",
      " True    def       from       nonlocal  while\n",
      " and     del       global     not       with\n",
      " as      elif      if         or        yield\n",
      " assert  else      import     pass\n",
      " break   except    in         raise\n",
      "si utilizas Python como una calculadora, puedes escribir expresiones como estas:\n",
      "millas = 26.2 -> millas * 1.61 ->  42.182\n"
     ]
    }
   ],
   "source": [
    "\n",
    "\n",
    "print(\"Sentencias de asignación\")\n",
    "\n",
    "mensaje = 'Y ahora algo completamente diferente'\n",
    "print(\"mensaje -> \" ,mensaje)\n",
    "\n",
    "n = 17\n",
    "print(\"n       -> \" ,n)\n",
    "\n",
    "pi = 3.1415926535897932\n",
    "print(\"pi      -> \" ,pi)\n",
    "\n",
    "\n",
    "# 76trombones = 'gran desfile'\n",
    "#SyntaxError: invalid syntax, 76trombones es ilegal porque comienza con un número\n",
    "\n",
    "#mas@ = 1000000\n",
    "#SyntaxError: invalid syntax, es ilegal porque contiene un carácter ilegal, @\n",
    "\n",
    "#class = 'Cimología teórica avanzada'\n",
    "#SyntaxError: Resulta que class es una de las palabras clave de Python\n",
    "\n",
    "print(\"palabras clave en Python\")\n",
    "print(\" False   class     finally    is        return\")\n",
    "print(\" None    continue  for        lambda    try\")\n",
    "print(\" True    def       from       nonlocal  while\")\n",
    "print(\" and     del       global     not       with\")\n",
    "print(\" as      elif      if         or        yield\")\n",
    "print(\" assert  else      import     pass\")\n",
    "print(\" break   except    in         raise\")\n",
    "\n",
    "print(\"si utilizas Python como una calculadora, puedes escribir expresiones como estas:\")\n",
    "millas = 26.2\n",
    "print(\"millas = 26.2 -> millas * 1.61 -> \",millas * 1.61)"
   ]
  }
 ],
 "metadata": {
  "kernelspec": {
   "display_name": "Python 3",
   "language": "python",
   "name": "python3"
  },
  "language_info": {
   "codemirror_mode": {
    "name": "ipython",
    "version": 3
   },
   "file_extension": ".py",
   "mimetype": "text/x-python",
   "name": "python",
   "nbconvert_exporter": "python",
   "pygments_lexer": "ipython3",
   "version": "3.13.7"
  }
 },
 "nbformat": 4,
 "nbformat_minor": 2
}
