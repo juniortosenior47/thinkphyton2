{
 "cells": [
  {
   "cell_type": "markdown",
   "metadata": {},
   "source": [
    "# Ejercicio Red Neuronal función XOR"
   ]
  },
  {
   "cell_type": "code",
   "execution_count": 5,
   "metadata": {
    "ExecuteTime": {
     "end_time": "2018-05-28T15:32:15.288986Z",
     "start_time": "2018-05-28T15:32:01.155764Z"
    }
   },
   "outputs": [
    {
     "name": "stdout",
     "output_type": "stream",
     "text": [
      "Valores y tipos\n",
      " type(2)             ->  <class 'int'>\n",
      " type(2.0)           ->  <class 'float'>\n",
      " type(2 + 2.0)       ->  <class 'float'>\n",
      " type(2 + 2j)        ->  <class 'complex'>\n",
      " type(2.0 + 2j)      ->  <class 'complex'>\n",
      " type(2 + 2.0j)      ->  <class 'complex'>\n",
      " type(2.0 + 2.0j)    ->  <class 'complex'>\n",
      " type('Hola, mundo') -> <class 'str'>\n",
      " type(True)          ->  <class 'bool'>\n",
      " type(False)         ->  <class 'bool'>\n",
      " type(None)          ->  <class 'NoneType'>\n",
      " type(1 == 1)        ->  <class 'bool'>\n",
      " type(1 != 1)        ->  <class 'bool'>\n",
      " type(1 < 2)         ->  <class 'bool'>\n",
      " type(1 > 2)         ->  <class 'bool'>\n",
      " type(1 <= 2)        ->  <class 'bool'>\n",
      " type(1 >= 2)        ->  <class 'bool'>\n",
      "Cuando escribas un entero grande, tal vez sientas la tentación de utilizar comas entre grupos\")\n",
      "de dígitos, como en 1,000,000. No es un entero legal en Python, pero es legal:\n",
      " 1,000,000 =   1 0 0\n",
      "¡Eso no es lo que esperábamos en absoluto! Python interpreta 1,000,000 como una secuencia\n",
      "de enteros separados por comas. Aprenderemos más sobre este tipo de secuencia más\n",
      "adelante.\n"
     ]
    }
   ],
   "source": [
    "\n",
    "\n",
    "print(\"Valores y tipos\")\n",
    "print(\" type(2)             -> \", type(2))\n",
    "print(\" type(2.0)           -> \", type(2.0))\n",
    "print(\" type(2 + 2.0)       -> \", type(2 + 2.0))\n",
    "print(\" type(2 + 2j)        -> \", type(2 + 2j))\n",
    "print(\" type(2.0 + 2j)      -> \", type(2.0 + 2j))\n",
    "print(\" type(2 + 2.0j)      -> \", type(2 + 2.0j))\n",
    "print(\" type(2.0 + 2.0j)    -> \", type(2.0 + 2.0j))\n",
    "print(\" type('Hola, mundo') ->\" , type('Hola, mundo'))\n",
    "\n",
    "print(\" type(True)          -> \", type(True))\n",
    "print(\" type(False)         -> \", type(False))\n",
    "print(\" type(None)          -> \", type(None)) \n",
    "print(\" type(1 == 1)        -> \", type(1 == 1))\n",
    "print(\" type(1 != 1)        -> \", type(1 != 1))\n",
    "print(\" type(1 < 2)         -> \", type(1 < 2))\n",
    "print(\" type(1 > 2)         -> \", type(1 > 2))\n",
    "print(\" type(1 <= 2)        -> \", type(1 <= 2))\n",
    "print(\" type(1 >= 2)        -> \", type(1 >= 2)) \n",
    "\n",
    "print(\"\"\"Cuando escribas un entero grande, tal vez sientas la tentación de utilizar comas entre grupos\")\n",
    "de dígitos, como en 1,000,000. No es un entero legal en Python, pero es legal:\"\"\")\n",
    "\n",
    "print(\" 1,000,000 =  \" , 1,000,000)  \n",
    "\n",
    "print(\"\"\"¡Eso no es lo que esperábamos en absoluto! Python interpreta 1,000,000 como una secuencia\n",
    "de enteros separados por comas. Aprenderemos más sobre este tipo de secuencia más\n",
    "adelante.\"\"\")\n"
   ]
  }
 ],
 "metadata": {
  "kernelspec": {
   "display_name": "Python 3",
   "language": "python",
   "name": "python3"
  },
  "language_info": {
   "codemirror_mode": {
    "name": "ipython",
    "version": 3
   },
   "file_extension": ".py",
   "mimetype": "text/x-python",
   "name": "python",
   "nbconvert_exporter": "python",
   "pygments_lexer": "ipython3",
   "version": "3.13.7"
  }
 },
 "nbformat": 4,
 "nbformat_minor": 2
}
