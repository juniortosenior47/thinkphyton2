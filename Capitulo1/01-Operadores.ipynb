{
 "cells": [
  {
   "cell_type": "markdown",
   "metadata": {},
   "source": [
    "# Ejercicio 0peradores"
   ]
  },
  {
   "cell_type": "code",
   "execution_count": 7,
   "metadata": {
    "ExecuteTime": {
     "end_time": "2018-05-28T15:32:15.288986Z",
     "start_time": "2018-05-28T15:32:01.155764Z"
    }
   },
   "outputs": [
    {
     "name": "stdout",
     "output_type": "stream",
     "text": [
      "Hola, mundo\n",
      "Los operadores +, - y * realizan sumas, restas y multiplicaciones, como en los siguientes\n",
      " 40 + 2    =   42\n",
      " 43 - 1    =   42\n",
      " 6 * 7     =   42\n",
      "El operador / realiza divisiones y siempre devuelve un número de punto flotante\n",
      " 84 / 2    =   42.0\n",
      "The / operator performs division and always returns a floating point number   \n",
      " 5 / 2     =   2.5\n",
      " 5.0 / 2.0 =   2.5\n",
      " 5.0 / 2   =   2.5\n",
      " 5 / 2.0   =   2.5\n",
      "El operador // realiza divisiones y redondea el resultado hacia abajo al entero más cercano\n",
      " 84 // 2   =   42\n",
      " 5 // 2    =   2\n",
      " 5.0 // 2.0=   2.0\n",
      " 5.0 // 2  =   2.0\n",
      " 5 // 2.0  =   2.0\n",
      "El operador ** realiza exponenciaciones\n",
      " 6 ** 2    =   36\n",
      " 6 ** 3    =   216\n",
      " 2 ** 6    =   64\n",
      "Valores y tipos\n",
      " type(2)             ->  <class 'int'>\n",
      " type(2.0)           ->  <class 'float'>\n",
      " type(2 + 2.0)       ->  <class 'float'>\n",
      " type(2 + 2j)        ->  <class 'complex'>\n",
      " type(2.0 + 2j)      ->  <class 'complex'>\n",
      " type(2 + 2.0j)      ->  <class 'complex'>\n",
      " type(2.0 + 2.0j)    ->  <class 'complex'>\n",
      " type('Hola, mundo') ->  <class 'str'>\n",
      "En algunos otros lenguajes, '^' se utiliza para potenciación, pero en Python es un operador bit a bit llamado XOR\n",
      " 6 ^ 2     =   4\n",
      " 6 ^ 3     =   5\n",
      " 2 ^ 6     =   4\n",
      "\n"
     ]
    }
   ],
   "source": [
    "print ('Hola, mundo')\n",
    "\n",
    "#print 'Hola, Python'\n",
    "#Las declaraciones deben estar separadas por nuevas líneas o punto y coma Pylance\n",
    "#Statements must be separated by newlines or semicolonsPylance\n",
    "\n",
    "print(\"Los operadores +, - y * realizan sumas, restas y multiplicaciones, como en los siguientes\")\n",
    "print(\" 40 + 2    =  \" , 40 + 2)\n",
    "print(\" 43 - 1    =  \" , 43 - 1)\n",
    "print(\" 6 * 7     =  \" , 6 * 7)\n",
    "\n",
    "print(\"El operador / realiza divisiones y siempre devuelve un número de punto flotante\")\n",
    "print(\" 84 / 2    =  \" , 84 / 2)\n",
    "\n",
    "print(\"The / operator performs division and always returns a floating point number   \")\n",
    "print(\" 5 / 2     =  \" , 5 / 2)\n",
    "print(\" 5.0 / 2.0 =  \" , 5.0 / 2.0)\n",
    "print(\" 5.0 / 2   =  \" , 5.0 / 2)\n",
    "print(\" 5 / 2.0   =  \" , 5 / 2.0)  \n",
    "\n",
    "print(\"El operador // realiza divisiones y redondea el resultado hacia abajo al entero más cercano\")\n",
    "print(\" 84 // 2   =  \" , 84 // 2)\n",
    "print(\" 5 // 2    =  \" , 5 // 2)\n",
    "print(\" 5.0 // 2.0=  \" , 5.0 // 2.0)\n",
    "print(\" 5.0 // 2  =  \" , 5.0 // 2)\n",
    "print(\" 5 // 2.0  =  \" , 5 // 2.0)     \n",
    "\n",
    "print(\"El operador ** realiza exponenciaciones\")\n",
    "print(\" 6 ** 2    =  \" , 6 ** 2)\n",
    "print(\" 6 ** 3    =  \" , 6 ** 3)\n",
    "print(\" 2 ** 6    =  \" , 2 ** 6)\n",
    "\n",
    "print(\"Valores y tipos\")\n",
    "print(\" type(2)             -> \", type(2))\n",
    "print(\" type(2.0)           -> \", type(2.0))\n",
    "print(\" type(2 + 2.0)       -> \", type(2 + 2.0))\n",
    "print(\" type(2 + 2j)        -> \", type(2 + 2j))\n",
    "print(\" type(2.0 + 2j)      -> \", type(2.0 + 2j))\n",
    "print(\" type(2 + 2.0j)      -> \", type(2 + 2.0j))\n",
    "print(\" type(2.0 + 2.0j)    -> \", type(2.0 + 2.0j))\n",
    "print(\" type('Hola, mundo') -> \" , type(\"Hola, mundo\"))\n",
    "\n",
    "print(\"En algunos otros lenguajes, '^' se utiliza para potenciación, pero en Python es un operador bit a bit llamado XOR\")\n",
    "print(\" 6 ^ 2     =  \" , 6 ^ 2)  # This is a bitwise XOR, not exponentiation\n",
    "print(\" 6 ^ 3     =  \" , 6 ^ 3)  # This is a bitwise XOR, not exponentiation\n",
    "print(\" 2 ^ 6     =  \" , 2 ^ 6)  # This is a bitwise XOR, not exponentiation\n",
    "print(\"\")"
   ]
  }
 ],
 "metadata": {
  "kernelspec": {
   "display_name": "Python 3",
   "language": "python",
   "name": "python3"
  },
  "language_info": {
   "codemirror_mode": {
    "name": "ipython",
    "version": 3
   },
   "file_extension": ".py",
   "mimetype": "text/x-python",
   "name": "python",
   "nbconvert_exporter": "python",
   "pygments_lexer": "ipython3",
   "version": "3.13.7"
  }
 },
 "nbformat": 4,
 "nbformat_minor": 2
}
