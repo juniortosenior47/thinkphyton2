{
 "cells": [
  {
   "cell_type": "markdown",
   "metadata": {},
   "source": [
    "# Funciones Productivas"
   ]
  },
  {
   "cell_type": "code",
   "execution_count": null,
   "metadata": {
    "ExecuteTime": {
     "end_time": "2018-05-28T15:32:15.288986Z",
     "start_time": "2018-05-28T15:32:01.155764Z"
    }
   },
   "outputs": [
    {
     "name": "stdout",
     "output_type": "stream",
     "text": [
      "altura 2.718281828459045\n",
      "area 78.53981633974483\n",
      "La expresión puede ser arbitrariamente\n",
      "complicada, por lo que podríamos haber escrito esta función de manera más concisa\n",
      "valor absoluto 5\n",
      "valor absoluto(0) -> 0\n"
     ]
    }
   ],
   "source": [
    "import math\n",
    "\n",
    "e = math.exp(1.0)\n",
    "radio= 5.0\n",
    "radianes = math.radians(30.0)\n",
    "altura = radio * math.sin(radianes)\n",
    "\n",
    "print(\"altura\", e)\n",
    "\n",
    "def area(radio):\n",
    "    a = math.pi * radio**2\n",
    "    return a\n",
    "\n",
    "print(\"area\", area(radio))\n",
    "\n",
    "print(\"\"\"La expresión puede ser arbitrariamente\n",
    "complicada, por lo que podríamos haber escrito esta función de manera más concisa\"\"\")\n",
    "def area(radio):\n",
    "    return math.pi * radio**2\n",
    "\n",
    "def valor_absoluto(x):\n",
    "    if x < 0:\n",
    "        return -x\n",
    "    else:\n",
    "        return x\n",
    "    \n",
    "print(\"valor absoluto\", valor_absoluto(-5))\n",
    "\n",
    "print(\"\"\"Esta función es incorrecta porque si x es 0, ninguna condición es verdadera, y la función\n",
    "termina sin llegar a una sentencia return. Si el flujo de ejecución llega al final de una\n",
    "función, el valor de retorno es None, lo cual no es el valor absoluto de 0.\"\"\")\n",
    "print(\"valor absoluto(0) ->\",valor_absoluto(0))"
   ]
  }
 ],
 "metadata": {
  "kernelspec": {
   "display_name": "Python 3",
   "language": "python",
   "name": "python3"
  },
  "language_info": {
   "codemirror_mode": {
    "name": "ipython",
    "version": 3
   },
   "file_extension": ".py",
   "mimetype": "text/x-python",
   "name": "python",
   "nbconvert_exporter": "python",
   "pygments_lexer": "ipython3",
   "version": "3.13.7"
  }
 },
 "nbformat": 4,
 "nbformat_minor": 2
}
