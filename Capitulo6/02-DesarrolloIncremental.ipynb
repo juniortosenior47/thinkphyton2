{
 "cells": [
  {
   "cell_type": "markdown",
   "metadata": {},
   "source": [
    "# Desarrollo incremental"
   ]
  },
  {
   "cell_type": "code",
   "execution_count": null,
   "metadata": {
    "ExecuteTime": {
     "end_time": "2018-05-28T15:32:15.288986Z",
     "start_time": "2018-05-28T15:32:01.155764Z"
    }
   },
   "outputs": [
    {
     "name": "stdout",
     "output_type": "stream",
     "text": [
      "Para lidiar con programas cada vez más complejos, tal vez quieras intentar un proceso\n",
      "llamado desarrollo incremental. El objetivo del desarrollo incremental es evitar largas sesiones\n",
      "de depuración agregando y probando solo un pedazo de código a la vez.\n",
      "Como ejemplo, supongamos que quieres encontrar la distancia entre dos puntos, dados\n",
      "por las coordenadas (x1, y1) y (x2, y2)\n",
      "Inmediatamente puedes escribir un esbozo de la función:\n",
      "distancia(1, 2, 4, 6) =  0.0\n",
      "Obviamente, esta versión no calcula distancias: siempre devuelve cero. Pero es sintácticamente\n",
      "correcta, y funciona, lo cual significa que puedes probarla antes de que la hagas más\n",
      "complicada.\n"
     ]
    }
   ],
   "source": [
    "print(\"\"\"Para lidiar con programas cada vez más complejos, tal vez quieras intentar un proceso\n",
    "llamado desarrollo incremental. El objetivo del desarrollo incremental es evitar largas sesiones\n",
    "de depuración agregando y probando solo un pedazo de código a la vez.\n",
    "Como ejemplo, supongamos que quieres encontrar la distancia entre dos puntos, dados\n",
    "por las coordenadas (x1, y1) y (x2, y2)\"\"\")\n",
    "\n",
    "\n",
    "print(\"Inmediatamente puedes escribir un esbozo de la función:\")\n",
    "\n",
    "def distancia(x1, y1, x2, y2):\n",
    "    return 0.0\n",
    "\n",
    "print(\"distancia(1, 2, 4, 6) = \", distancia(1, 2, 4, 6))\n",
    "print(\"\"\"Obviamente, esta versión no calcula distancias: siempre devuelve cero. Pero es sintácticamente\n",
    "correcta, y funciona, lo cual significa que puedes probarla antes de que la hagas más\n",
    "complicada.\"\"\")"
   ]
  },
  {
   "cell_type": "code",
   "execution_count": 6,
   "metadata": {},
   "outputs": [
    {
     "name": "stdout",
     "output_type": "stream",
     "text": [
      "En este punto hemos confirmado que la función es sintácticamente correcta y podemos comenzar\n",
      "agregando código al cuerpo\n",
      "dx es 3\n",
      "dy es 4\n",
      "distancia(1, 2, 4, 6) =  0.0\n",
      "Si la función está bien, debería mostrar dx es 3 y dy es 4. Si es así, sabemos que la función\n",
      "obtiene los argumentos correctos y realiza el primer cálculo de manera correcta. Si no, solo\n",
      "hay que revisar unas pocas líneas.\n"
     ]
    }
   ],
   "source": [
    "print(\"\"\"En este punto hemos confirmado que la función es sintácticamente correcta y podemos comenzar\n",
    "agregando código al cuerpo\"\"\")\n",
    "\n",
    "def distancia(x1, y1, x2, y2):\n",
    "    dx = x2 - x1\n",
    "    dy = y2 - y1\n",
    "    print('dx es', dx)\n",
    "    print('dy es', dy)\n",
    "    return 0.0\n",
    "\n",
    "print(\"distancia(1, 2, 4, 6) = \", distancia(1, 2, 4, 6))\n",
    "\n",
    "print(\"\"\"Si la función está bien, debería mostrar dx es 3 y dy es 4. Si es así, sabemos que la función\n",
    "obtiene los argumentos correctos y realiza el primer cálculo de manera correcta. Si no, solo\n",
    "hay que revisar unas pocas líneas.\"\"\")\n"
   ]
  },
  {
   "cell_type": "code",
   "execution_count": 9,
   "metadata": {},
   "outputs": [
    {
     "name": "stdout",
     "output_type": "stream",
     "text": [
      "Luego calculamos la suma de los cuadrados de dx y dy:\n",
      "dcuadrado es:  25\n",
      "distancia(1, 2, 4, 6) =  0.0\n",
      "De nuevo, tendrías que ejecutar el programa en este punto y verificar la salida (que debería\n",
      "ser 25)\n"
     ]
    }
   ],
   "source": [
    "print(\"\"\"Luego calculamos la suma de los cuadrados de dx y dy:\"\"\")\n",
    "\n",
    "def distance(x1, y1, x2, y2):\n",
    "    dx = x2 - x1\n",
    "    dy = y2 - y1\n",
    "    dcuadrado = dx**2 + dy**2\n",
    "    print('dcuadrado es: ', dcuadrado)\n",
    "    return 0.0\n",
    "\n",
    "print(\"distancia(1, 2, 4, 6) = \", distance(1, 2, 4, 6))\n",
    "\n",
    "print(\"\"\"De nuevo, tendrías que ejecutar el programa en este punto y verificar la salida (que debería\n",
    "ser 25)\"\"\")\n",
    "\n"
   ]
  },
  {
   "cell_type": "code",
   "execution_count": null,
   "metadata": {},
   "outputs": [
    {
     "name": "stdout",
     "output_type": "stream",
     "text": [
      "Finalmente, puedes usar math.sqrt para calcular y devolver el resultado:\n",
      "distancia(1, 2, 4, 6) =  5.0\n",
      "-\n",
      "La versión final de la función no muestra nada cuando se ejecuta: solo devuelve un valor.\n",
      "Las sentencias print que escribimos son útiles para depurar, pero una vez que la función\n",
      "esté bien, deberías borrarlas. Un código como ese se llama andamiaje (en inglés, scaffolding)\n",
      "porque es útil para construir el programa pero no es parte del producto final.\n",
      "-\n",
      "Los aspectos clave del proceso son:\n",
      "1. Comienza con un programa que funcione y haz pequeños cambios incrementales. En\n",
      "cualquier punto, si hay un error, deberías tener una buena idea de dónde está.\n",
      "2. Utiliza variables que guarden valores intermedios de tal manera que puedas mostrarlos\n",
      "y verificarlos.\n",
      "3. Una vez que el programa funciona, tal vez quieras borrar algo del andamiaje o consolidar\n",
      "varias sentencias en una expresión compuesta, pero solo si no hace al programa\n",
      "difícil de leer.\n"
     ]
    }
   ],
   "source": [
    "print(\"Finalmente, puedes usar math.sqrt para calcular y devolver el resultado:\")\n",
    "import math\n",
    "\n",
    "def distancia(x1, y1, x2, y2):\n",
    "    dx = x2 - x1\n",
    "    dy = y2 - y1\n",
    "    dcuadrado = dx**2 + dy**2\n",
    "    resultado = math.sqrt(dcuadrado)\n",
    "    return resultado\n",
    "\n",
    "print(\"distancia(1, 2, 4, 6) = \", distancia(1, 2, 4, 6))\n",
    "\n",
    "print(\"-\")\n",
    "print(\"\"\"La versión final de la función no muestra nada cuando se ejecuta: solo devuelve un valor.\n",
    "Las sentencias print que escribimos son útiles para depurar, pero una vez que la función\n",
    "esté bien, deberías borrarlas. Un código como ese se llama andamiaje (en inglés, scaffolding)\n",
    "porque es útil para construir el programa pero no es parte del producto final.\"\"\")\n",
    "\n",
    "print(\"-\")\n",
    "print(\"\"\"Los aspectos clave del proceso son:\n",
    "1. Comienza con un programa que funcione y haz pequeños cambios incrementales. En\n",
    "cualquier punto, si hay un error, deberías tener una buena idea de dónde está.\n",
    "2. Utiliza variables que guarden valores intermedios de tal manera que puedas mostrarlos\n",
    "y verificarlos.\n",
    "3. Una vez que el programa funciona, tal vez quieras borrar algo del andamiaje o consolidar\n",
    "varias sentencias en una expresión compuesta, pero solo si no hace al programa\n",
    "difícil de leer.\"\"\")\n"
   ]
  }
 ],
 "metadata": {
  "kernelspec": {
   "display_name": "Python 3",
   "language": "python",
   "name": "python3"
  },
  "language_info": {
   "codemirror_mode": {
    "name": "ipython",
    "version": 3
   },
   "file_extension": ".py",
   "mimetype": "text/x-python",
   "name": "python",
   "nbconvert_exporter": "python",
   "pygments_lexer": "ipython3",
   "version": "3.13.7"
  }
 },
 "nbformat": 4,
 "nbformat_minor": 2
}
