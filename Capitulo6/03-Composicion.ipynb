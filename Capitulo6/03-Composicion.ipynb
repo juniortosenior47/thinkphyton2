{
 "cells": [
  {
   "cell_type": "markdown",
   "metadata": {},
   "source": [
    "# Composición"
   ]
  },
  {
   "cell_type": "code",
   "execution_count": 6,
   "metadata": {
    "ExecuteTime": {
     "end_time": "2018-05-28T15:32:15.288986Z",
     "start_time": "2018-05-28T15:32:01.155764Z"
    }
   },
   "outputs": [
    {
     "name": "stdout",
     "output_type": "stream",
     "text": [
      "Como ya deberías esperar, puedes llamar a una función desde dentro de otra. Como ejemplo,\n",
      "escribiremos una función que tome dos puntos, el centro de un círculo y un punto de\n",
      "su perímetro, y calcule el área del círculo.\n",
      "area_circulo(0, 0, 1, 0) -> 3.141592653589793\n",
      "Funciones boleanas\n",
      "-\n",
      "es_divisible(6, 4) -> False\n",
      "es_divisible(6, 3) -> True\n",
      "es_divisible(6, 0) -> False\n",
      "es_divisible(6, -3) -> True\n",
      "es_divisible(6, -4) -> False\n",
      "-\n",
      "Mejorando la función anterior\n",
      "es_divisible1(6, 4) -> False\n",
      "es_divisible1(6, 3) -> True\n",
      "es_divisible1(6, 0) -> False\n",
      "es_divisible1(6, -3) -> True\n",
      "es_divisible1(6, -4) -> False\n"
     ]
    }
   ],
   "source": [
    "print(\"\"\"Como ya deberías esperar, puedes llamar a una función desde dentro de otra. Como ejemplo,\n",
    "escribiremos una función que tome dos puntos, el centro de un círculo y un punto de\n",
    "su perímetro, y calcule el área del círculo.\"\"\")\n",
    "\n",
    "import math\n",
    "\n",
    "def distancia(x1, y1, x2, y2):\n",
    "    dx = x2 - x1\n",
    "    dy = y2 - y1\n",
    "    dcuadrado = dx**2 + dy**2\n",
    "    resultado = math.sqrt(dcuadrado)\n",
    "    return resultado\n",
    "\n",
    "def area(radio):\n",
    "    return math.pi * radio**2\n",
    "\n",
    "def area_circulo(xc, yc, xp, yp):\n",
    "    return area(distancia(xc, yc, xp, yp))\n",
    "\n",
    "print(\"area_circulo(0, 0, 1, 0) ->\",area_circulo(0, 0, 1, 0))\n",
    "\n",
    "\n",
    "print(\"Funciones boleanas\")\n",
    "print(\"-\")\n",
    "\n",
    "def es_divisible(x, y):\n",
    "    if x % y == 0:\n",
    "        return True\n",
    "    else:\n",
    "        return False\n",
    "\n",
    "print(\"es_divisible(6, 4) ->\",es_divisible(6, 4))\n",
    "print(\"es_divisible(6, 3) ->\",es_divisible(6, 3))\n",
    "print(\"es_divisible(6, 0) ->\",es_divisible(6, 7))\n",
    "print(\"es_divisible(6, -3) ->\",es_divisible(6, -3))\n",
    "print(\"es_divisible(6, -4) ->\",es_divisible(6, -4))\n",
    "\n",
    "print(\"-\")\n",
    "print(\"Mejorando la función anterior\")\n",
    "\n",
    "def es_divisible1(x, y):\n",
    "    return x % y == 0 \n",
    "\n",
    "print(\"es_divisible1(6, 4) ->\",es_divisible1(6, 4))\n",
    "print(\"es_divisible1(6, 3) ->\",es_divisible1(6, 3))\n",
    "print(\"es_divisible1(6, 0) ->\",es_divisible1(6, 7))\n",
    "print(\"es_divisible1(6, -3) ->\",es_divisible1(6, -3))\n",
    "print(\"es_divisible1(6, -4) ->\",es_divisible1(6, -4))\n",
    "\n"
   ]
  },
  {
   "cell_type": "code",
   "execution_count": 8,
   "metadata": {},
   "outputs": [
    {
     "name": "stdout",
     "output_type": "stream",
     "text": [
      "Más recursividad\n",
      "-\n",
      "0! = 1\n",
      "n! = n(n - 1)!\n",
      "-\n",
      "Esta definición dice que el factorial de 0 es 1 y el factorial de cualquier otro valor, n, es n\n",
      "multiplicado por el factorial de n 􀀀 1.\n",
      "Así que 3! es 3 por 2!, lo cual es 2 por 1!, lo cual es 1 por 0!. Poniéndolo todo junto, 3! es\n",
      "igual a 3 por 2 por 1 por 1, lo cual es 6.\n",
      "-\n",
      "factorial(5) -> 120\n",
      "factorial(6) -> 720\n"
     ]
    }
   ],
   "source": [
    "print(\"Más recursividad\")\n",
    "print(\"-\")\n",
    "print(\"0! = 1\")\n",
    "print(\"n! = n(n - 1)!\")\n",
    "print(\"-\")\n",
    "print(\"\"\"Esta definición dice que el factorial de 0 es 1 y el factorial de cualquier otro valor, n, es n\n",
    "multiplicado por el factorial de n 􀀀 1.\n",
    "Así que 3! es 3 por 2!, lo cual es 2 por 1!, lo cual es 1 por 0!. Poniéndolo todo junto, 3! es\n",
    "igual a 3 por 2 por 1 por 1, lo cual es 6.\"\"\"  )\n",
    "print(\"-\")\n",
    "\n",
    "def factorial(n):\n",
    "    if n == 0:\n",
    "        return 1\n",
    "    else:\n",
    "        return n * factorial(n - 1)\n",
    "\n",
    "print(\"factorial(5) ->\",factorial(5))\n",
    "print(\"factorial(6) ->\",factorial(6))\n"
   ]
  },
  {
   "cell_type": "code",
   "execution_count": 14,
   "metadata": {},
   "outputs": [
    {
     "name": "stdout",
     "output_type": "stream",
     "text": [
      "fibonacci(0) = 0\n",
      "fibonacci(1) = 1\n",
      "fibonacci(n) = fibonacci(n - 1) + fibonacci(n - 2)\n",
      "-\n",
      "fibonacci(3) -> 2\n",
      "fibonacci(4) -> 3\n",
      "fibonacci(20) -> 6765\n"
     ]
    }
   ],
   "source": [
    "print(\"\"\"fibonacci(0) = 0\n",
    "fibonacci(1) = 1\n",
    "fibonacci(n) = fibonacci(n - 1) + fibonacci(n - 2)\"\"\")\n",
    "print(\"-\")\n",
    "\n",
    "def fibonacci(n):\n",
    "    if n == 0:\n",
    "        return 0\n",
    "    elif n == 1:\n",
    "        return 1\n",
    "    else:\n",
    "        return fibonacci(n-1) + fibonacci(n-2)\n",
    "\n",
    "print(\"fibonacci(3) ->\",fibonacci(3))\n",
    "print(\"fibonacci(4) ->\",fibonacci(4))\n",
    "print(\"fibonacci(20) ->\",fibonacci(20))\n"
   ]
  }
 ],
 "metadata": {
  "kernelspec": {
   "display_name": "Python 3",
   "language": "python",
   "name": "python3"
  },
  "language_info": {
   "codemirror_mode": {
    "name": "ipython",
    "version": 3
   },
   "file_extension": ".py",
   "mimetype": "text/x-python",
   "name": "python",
   "nbconvert_exporter": "python",
   "pygments_lexer": "ipython3",
   "version": "3.13.7"
  }
 },
 "nbformat": 4,
 "nbformat_minor": 2
}
