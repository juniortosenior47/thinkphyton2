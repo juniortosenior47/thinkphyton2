{
 "cells": [
  {
   "cell_type": "markdown",
   "metadata": {},
   "source": [
    "# Condicionales y recursividad"
   ]
  },
  {
   "cell_type": "code",
   "execution_count": 14,
   "metadata": {
    "ExecuteTime": {
     "end_time": "2018-05-28T15:32:15.288986Z",
     "start_time": "2018-05-28T15:32:01.155764Z"
    }
   },
   "outputs": [
    {
     "name": "stdout",
     "output_type": "stream",
     "text": [
      " cuenta_reg(3)   ->\n",
      "3\n",
      "2\n",
      "1\n",
      "Despegue!\n",
      "Entrada de teclado\n",
      "Bien venido ! julio\n"
     ]
    }
   ],
   "source": [
    "n=2\n",
    "def cuenta_reg(n):\n",
    "    if n <= 0:\n",
    "        print('Despegue!')\n",
    "    else:\n",
    "        print(n)\n",
    "        cuenta_reg(n-1)\n",
    "\n",
    "\n",
    "\n",
    "print(\" cuenta_reg(3)   ->\")\n",
    "cuenta_reg(3)\n",
    "\n",
    "def imprimir_n(s, n):\n",
    "    if n <= 0:\n",
    "        return\n",
    "    print(s)\n",
    "    imprimir_n(s, n-1)\n",
    "\n",
    "print(\"Entrada de teclado\")\n",
    "nombre = input('Cuál...es tu nombre?\\n')\n",
    "print(\"Bien venido !\", nombre  )\n"
   ]
  }
 ],
 "metadata": {
  "kernelspec": {
   "display_name": "Python 3",
   "language": "python",
   "name": "python3"
  },
  "language_info": {
   "codemirror_mode": {
    "name": "ipython",
    "version": 3
   },
   "file_extension": ".py",
   "mimetype": "text/x-python",
   "name": "python",
   "nbconvert_exporter": "python",
   "pygments_lexer": "ipython3",
   "version": "3.13.7"
  }
 },
 "nbformat": 4,
 "nbformat_minor": 2
}
